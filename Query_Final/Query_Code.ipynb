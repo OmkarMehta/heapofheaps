{
  "nbformat": 4,
  "nbformat_minor": 0,
  "metadata": {
    "colab": {
      "provenance": []
    },
    "kernelspec": {
      "name": "python3",
      "display_name": "Python 3"
    },
    "language_info": {
      "name": "python"
    }
  },
  "cells": [
    {
      "cell_type": "code",
      "execution_count": 9,
      "metadata": {
        "id": "cVEiILfg8F1c"
      },
      "outputs": [],
      "source": [
        "import pandas as pd\n",
        "import numpy as np"
      ]
    },
    {
      "cell_type": "code",
      "source": [
        "data = pd.read_csv(\"Indian_Names.csv\")"
      ],
      "metadata": {
        "id": "8skhkALC8LPO"
      },
      "execution_count": 10,
      "outputs": []
    },
    {
      "cell_type": "code",
      "source": [
        "data = data['Name']"
      ],
      "metadata": {
        "id": "ayyfx-6L9aTt"
      },
      "execution_count": 11,
      "outputs": []
    },
    {
      "cell_type": "code",
      "source": [
        "l1 = []\n",
        "for i in data:\n",
        "  l1.append(str(i).replace(\" \",\"\"))"
      ],
      "metadata": {
        "id": "y3q7uuj99fVj"
      },
      "execution_count": 12,
      "outputs": []
    },
    {
      "cell_type": "code",
      "source": [
        "l2 = []\n",
        "for i in l1:\n",
        "  l2.append(i.capitalize())"
      ],
      "metadata": {
        "id": "npfm9Huh97k0"
      },
      "execution_count": 13,
      "outputs": []
    },
    {
      "cell_type": "code",
      "source": [
        "#Code for name adding\n",
        "with open(\"Query.txt\", \"w\") as q:\n",
        "  for i in range(len(l2)):\n",
        "    q.write(\"ADD PARTICIPANT P{}, {}, BCCI\\n\".format(i,l2[i]))"
      ],
      "metadata": {
        "id": "58c7ZajE-W5z"
      },
      "execution_count": 14,
      "outputs": []
    },
    {
      "cell_type": "code",
      "source": [
        "sports = pd.read_csv(\"sports.csv\")"
      ],
      "metadata": {
        "id": "dCzbttynC8wk"
      },
      "execution_count": 15,
      "outputs": []
    },
    {
      "cell_type": "code",
      "source": [
        "l3 = []\n",
        "for i in sports['Sports']:\n",
        "  l3.append(str(i).replace(\" \",\"\"))"
      ],
      "metadata": {
        "id": "-S4OjwxTDz4I"
      },
      "execution_count": 16,
      "outputs": []
    },
    {
      "cell_type": "code",
      "source": [
        "l4 = []\n",
        "for i in l3:\n",
        "  l4.append(i.capitalize())"
      ],
      "metadata": {
        "id": "iUvFodzWE1zL"
      },
      "execution_count": 17,
      "outputs": []
    },
    {
      "cell_type": "code",
      "source": [
        "#Code for sporting events\n",
        "with open(\"Query.txt\", \"a\") as q:\n",
        "  for i in range(len(l4)):\n",
        "    q.write(\"ADD EVENT E{}, {}, Quizzing\\n\".format(i,l4[i]))"
      ],
      "metadata": {
        "id": "IFrZd8XFDBA8"
      },
      "execution_count": 18,
      "outputs": []
    },
    {
      "cell_type": "code",
      "source": [
        "## Adding every player to every event\n",
        "with open(\"Query.txt\", \"a\") as q:\n",
        "  for i in range(len(l4)):\n",
        "    for j in range(len(l2)):\n",
        "      q.write(\"ADD P{}, E{}\\n\".format(j,i))"
      ],
      "metadata": {
        "id": "lsZDImoDGCza"
      },
      "execution_count": 19,
      "outputs": []
    },
    {
      "cell_type": "code",
      "source": [
        "# Generating scores\n",
        "import random\n",
        "with open(\"Query.txt\", \"a\") as q:\n",
        "  for i in range(len(l4)):\n",
        "    for j in range(len(l2)):\n",
        "      q.write(\"UPDATE SCORE P{}, E{}, {}\\n\".format(j,i,random.randint(0, 10000)))"
      ],
      "metadata": {
        "id": "BjsSjDEYGhOk"
      },
      "execution_count": 20,
      "outputs": []
    }
  ]
}